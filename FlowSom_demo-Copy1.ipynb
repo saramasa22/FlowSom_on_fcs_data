{
 "cells": [
  {
   "cell_type": "code",
   "execution_count": 33,
   "metadata": {},
   "outputs": [],
   "source": [
    "from flowsom import flowsom as flowsom\n",
    "from ipywidgets import interact, interactive, fixed, interact_manual\n",
    "import ipywidgets as widgets"
   ]
  },
  {
   "cell_type": "code",
   "execution_count": 34,
   "metadata": {},
   "outputs": [],
   "source": [
    "tt = flowsom('/Users/smasarone/Desktop/demo_fcs/BD - FACS Aria II.fcs', if_fcs=True, if_drop=False)"
   ]
  },
  {
   "cell_type": "code",
   "execution_count": 35,
   "metadata": {},
   "outputs": [
    {
     "data": {
      "text/html": [
       "<div>\n",
       "<style scoped>\n",
       "    .dataframe tbody tr th:only-of-type {\n",
       "        vertical-align: middle;\n",
       "    }\n",
       "\n",
       "    .dataframe tbody tr th {\n",
       "        vertical-align: top;\n",
       "    }\n",
       "\n",
       "    .dataframe thead th {\n",
       "        text-align: right;\n",
       "    }\n",
       "</style>\n",
       "<table border=\"1\" class=\"dataframe\">\n",
       "  <thead>\n",
       "    <tr style=\"text-align: right;\">\n",
       "      <th></th>\n",
       "      <th>FSC-A</th>\n",
       "      <th>FSC-H</th>\n",
       "      <th>SSC-A</th>\n",
       "      <th>R780-A</th>\n",
       "      <th>B515-A</th>\n",
       "      <th>V450-A</th>\n",
       "      <th>V545-A</th>\n",
       "      <th>G560-A</th>\n",
       "      <th>G610-A</th>\n",
       "      <th>G660-A</th>\n",
       "      <th>G710-A</th>\n",
       "      <th>G780-A</th>\n",
       "      <th>Time</th>\n",
       "      <th>Event #</th>\n",
       "    </tr>\n",
       "  </thead>\n",
       "  <tbody>\n",
       "    <tr>\n",
       "      <th>0</th>\n",
       "      <td>159360.0</td>\n",
       "      <td>72832.0</td>\n",
       "      <td>930.200012</td>\n",
       "      <td>7428.466309</td>\n",
       "      <td>293.171692</td>\n",
       "      <td>296.450836</td>\n",
       "      <td>563.152344</td>\n",
       "      <td>11923.830078</td>\n",
       "      <td>25165.421875</td>\n",
       "      <td>19173.212891</td>\n",
       "      <td>52035.277344</td>\n",
       "      <td>12569.090820</td>\n",
       "      <td>0.0</td>\n",
       "      <td>0.0</td>\n",
       "    </tr>\n",
       "    <tr>\n",
       "      <th>1</th>\n",
       "      <td>32128.0</td>\n",
       "      <td>32128.0</td>\n",
       "      <td>253.870056</td>\n",
       "      <td>-38.390263</td>\n",
       "      <td>33.414497</td>\n",
       "      <td>11.098284</td>\n",
       "      <td>120.726654</td>\n",
       "      <td>74.112572</td>\n",
       "      <td>92.981125</td>\n",
       "      <td>237.716003</td>\n",
       "      <td>96.893257</td>\n",
       "      <td>8.482522</td>\n",
       "      <td>0.0</td>\n",
       "      <td>10.0</td>\n",
       "    </tr>\n",
       "    <tr>\n",
       "      <th>2</th>\n",
       "      <td>187456.0</td>\n",
       "      <td>96576.0</td>\n",
       "      <td>1904.827393</td>\n",
       "      <td>2283.830566</td>\n",
       "      <td>617.025269</td>\n",
       "      <td>457.242798</td>\n",
       "      <td>879.182556</td>\n",
       "      <td>1264.698242</td>\n",
       "      <td>5266.725098</td>\n",
       "      <td>6347.848145</td>\n",
       "      <td>8046.870605</td>\n",
       "      <td>1875.684570</td>\n",
       "      <td>0.0</td>\n",
       "      <td>20.0</td>\n",
       "    </tr>\n",
       "    <tr>\n",
       "      <th>3</th>\n",
       "      <td>39616.0</td>\n",
       "      <td>38976.0</td>\n",
       "      <td>1119.805908</td>\n",
       "      <td>426.463043</td>\n",
       "      <td>411.432739</td>\n",
       "      <td>238.249344</td>\n",
       "      <td>4318.327148</td>\n",
       "      <td>443.063507</td>\n",
       "      <td>817.831482</td>\n",
       "      <td>706.679749</td>\n",
       "      <td>1432.029785</td>\n",
       "      <td>367.095459</td>\n",
       "      <td>0.0</td>\n",
       "      <td>30.0</td>\n",
       "    </tr>\n",
       "    <tr>\n",
       "      <th>4</th>\n",
       "      <td>71040.0</td>\n",
       "      <td>63488.0</td>\n",
       "      <td>291.357330</td>\n",
       "      <td>5175.881836</td>\n",
       "      <td>114.511658</td>\n",
       "      <td>240.393906</td>\n",
       "      <td>309.248413</td>\n",
       "      <td>3722.678223</td>\n",
       "      <td>1516.909546</td>\n",
       "      <td>4350.542969</td>\n",
       "      <td>30248.910156</td>\n",
       "      <td>7712.122070</td>\n",
       "      <td>0.0</td>\n",
       "      <td>40.0</td>\n",
       "    </tr>\n",
       "  </tbody>\n",
       "</table>\n",
       "</div>"
      ],
      "text/plain": [
       "      FSC-A    FSC-H        SSC-A       R780-A      B515-A      V450-A  \\\n",
       "0  159360.0  72832.0   930.200012  7428.466309  293.171692  296.450836   \n",
       "1   32128.0  32128.0   253.870056   -38.390263   33.414497   11.098284   \n",
       "2  187456.0  96576.0  1904.827393  2283.830566  617.025269  457.242798   \n",
       "3   39616.0  38976.0  1119.805908   426.463043  411.432739  238.249344   \n",
       "4   71040.0  63488.0   291.357330  5175.881836  114.511658  240.393906   \n",
       "\n",
       "        V545-A        G560-A        G610-A        G660-A        G710-A  \\\n",
       "0   563.152344  11923.830078  25165.421875  19173.212891  52035.277344   \n",
       "1   120.726654     74.112572     92.981125    237.716003     96.893257   \n",
       "2   879.182556   1264.698242   5266.725098   6347.848145   8046.870605   \n",
       "3  4318.327148    443.063507    817.831482    706.679749   1432.029785   \n",
       "4   309.248413   3722.678223   1516.909546   4350.542969  30248.910156   \n",
       "\n",
       "         G780-A  Time  Event #  \n",
       "0  12569.090820   0.0      0.0  \n",
       "1      8.482522   0.0     10.0  \n",
       "2   1875.684570   0.0     20.0  \n",
       "3    367.095459   0.0     30.0  \n",
       "4   7712.122070   0.0     40.0  "
      ]
     },
     "execution_count": 35,
     "metadata": {},
     "output_type": "execute_result"
    }
   ],
   "source": [
    "tt_df = tt.df\n",
    "tt_df.head()"
   ]
  },
  {
   "cell_type": "code",
   "execution_count": 36,
   "metadata": {},
   "outputs": [],
   "source": [
    "tt_df = tt_df.drop(columns = 'Time')"
   ]
  },
  {
   "cell_type": "code",
   "execution_count": 37,
   "metadata": {},
   "outputs": [
    {
     "data": {
      "text/html": [
       "<div>\n",
       "<style scoped>\n",
       "    .dataframe tbody tr th:only-of-type {\n",
       "        vertical-align: middle;\n",
       "    }\n",
       "\n",
       "    .dataframe tbody tr th {\n",
       "        vertical-align: top;\n",
       "    }\n",
       "\n",
       "    .dataframe thead th {\n",
       "        text-align: right;\n",
       "    }\n",
       "</style>\n",
       "<table border=\"1\" class=\"dataframe\">\n",
       "  <thead>\n",
       "    <tr style=\"text-align: right;\">\n",
       "      <th></th>\n",
       "      <th>FSC-A</th>\n",
       "      <th>FSC-H</th>\n",
       "      <th>SSC-A</th>\n",
       "      <th>R780-A</th>\n",
       "      <th>B515-A</th>\n",
       "      <th>V450-A</th>\n",
       "      <th>V545-A</th>\n",
       "      <th>G560-A</th>\n",
       "      <th>G610-A</th>\n",
       "      <th>G660-A</th>\n",
       "      <th>G710-A</th>\n",
       "      <th>G780-A</th>\n",
       "      <th>Event #</th>\n",
       "    </tr>\n",
       "  </thead>\n",
       "  <tbody>\n",
       "    <tr>\n",
       "      <th>0</th>\n",
       "      <td>159360.0</td>\n",
       "      <td>72832.0</td>\n",
       "      <td>930.200012</td>\n",
       "      <td>7428.466309</td>\n",
       "      <td>293.171692</td>\n",
       "      <td>296.450836</td>\n",
       "      <td>563.152344</td>\n",
       "      <td>11923.830078</td>\n",
       "      <td>25165.421875</td>\n",
       "      <td>19173.212891</td>\n",
       "      <td>52035.277344</td>\n",
       "      <td>12569.090820</td>\n",
       "      <td>0.0</td>\n",
       "    </tr>\n",
       "    <tr>\n",
       "      <th>1</th>\n",
       "      <td>32128.0</td>\n",
       "      <td>32128.0</td>\n",
       "      <td>253.870056</td>\n",
       "      <td>-38.390263</td>\n",
       "      <td>33.414497</td>\n",
       "      <td>11.098284</td>\n",
       "      <td>120.726654</td>\n",
       "      <td>74.112572</td>\n",
       "      <td>92.981125</td>\n",
       "      <td>237.716003</td>\n",
       "      <td>96.893257</td>\n",
       "      <td>8.482522</td>\n",
       "      <td>10.0</td>\n",
       "    </tr>\n",
       "    <tr>\n",
       "      <th>2</th>\n",
       "      <td>187456.0</td>\n",
       "      <td>96576.0</td>\n",
       "      <td>1904.827393</td>\n",
       "      <td>2283.830566</td>\n",
       "      <td>617.025269</td>\n",
       "      <td>457.242798</td>\n",
       "      <td>879.182556</td>\n",
       "      <td>1264.698242</td>\n",
       "      <td>5266.725098</td>\n",
       "      <td>6347.848145</td>\n",
       "      <td>8046.870605</td>\n",
       "      <td>1875.684570</td>\n",
       "      <td>20.0</td>\n",
       "    </tr>\n",
       "    <tr>\n",
       "      <th>3</th>\n",
       "      <td>39616.0</td>\n",
       "      <td>38976.0</td>\n",
       "      <td>1119.805908</td>\n",
       "      <td>426.463043</td>\n",
       "      <td>411.432739</td>\n",
       "      <td>238.249344</td>\n",
       "      <td>4318.327148</td>\n",
       "      <td>443.063507</td>\n",
       "      <td>817.831482</td>\n",
       "      <td>706.679749</td>\n",
       "      <td>1432.029785</td>\n",
       "      <td>367.095459</td>\n",
       "      <td>30.0</td>\n",
       "    </tr>\n",
       "    <tr>\n",
       "      <th>4</th>\n",
       "      <td>71040.0</td>\n",
       "      <td>63488.0</td>\n",
       "      <td>291.357330</td>\n",
       "      <td>5175.881836</td>\n",
       "      <td>114.511658</td>\n",
       "      <td>240.393906</td>\n",
       "      <td>309.248413</td>\n",
       "      <td>3722.678223</td>\n",
       "      <td>1516.909546</td>\n",
       "      <td>4350.542969</td>\n",
       "      <td>30248.910156</td>\n",
       "      <td>7712.122070</td>\n",
       "      <td>40.0</td>\n",
       "    </tr>\n",
       "  </tbody>\n",
       "</table>\n",
       "</div>"
      ],
      "text/plain": [
       "      FSC-A    FSC-H        SSC-A       R780-A      B515-A      V450-A  \\\n",
       "0  159360.0  72832.0   930.200012  7428.466309  293.171692  296.450836   \n",
       "1   32128.0  32128.0   253.870056   -38.390263   33.414497   11.098284   \n",
       "2  187456.0  96576.0  1904.827393  2283.830566  617.025269  457.242798   \n",
       "3   39616.0  38976.0  1119.805908   426.463043  411.432739  238.249344   \n",
       "4   71040.0  63488.0   291.357330  5175.881836  114.511658  240.393906   \n",
       "\n",
       "        V545-A        G560-A        G610-A        G660-A        G710-A  \\\n",
       "0   563.152344  11923.830078  25165.421875  19173.212891  52035.277344   \n",
       "1   120.726654     74.112572     92.981125    237.716003     96.893257   \n",
       "2   879.182556   1264.698242   5266.725098   6347.848145   8046.870605   \n",
       "3  4318.327148    443.063507    817.831482    706.679749   1432.029785   \n",
       "4   309.248413   3722.678223   1516.909546   4350.542969  30248.910156   \n",
       "\n",
       "         G780-A  Event #  \n",
       "0  12569.090820      0.0  \n",
       "1      8.482522     10.0  \n",
       "2   1875.684570     20.0  \n",
       "3    367.095459     30.0  \n",
       "4   7712.122070     40.0  "
      ]
     },
     "execution_count": 37,
     "metadata": {},
     "output_type": "execute_result"
    }
   ],
   "source": [
    "tt_df.head()"
   ]
  },
  {
   "cell_type": "code",
   "execution_count": 39,
   "metadata": {},
   "outputs": [
    {
     "name": "stdout",
     "output_type": "stream",
     "text": [
      "Training...\n",
      " [ 500 / 500 ] 100% - 0:00:00 left \n",
      " quantization error: 497986.15253154485\n",
      " topographic error: 0.9764\n",
      "\n",
      "...ready!\n"
     ]
    }
   ],
   "source": [
    "tt.som_mapping(50, # x_n: e.g. 100, the dimension of expected map\n",
    "               50, # y_n: e.g. 100, the dimension of expected map\n",
    "               14, # d: e.g. 31, vector length of input df\n",
    "               2.5, # sigma: e.g 2.5, the sigma of initialized weights\n",
    "               0.1, # lr: e.g 0.1, learning rate\n",
    "               500, # batch_size: 1000, iteration times\n",
    "               # neighborhood='gaussian', the initialized weights' distribution\n",
    "               tf_str=None, # string, e.g. hlog', None, etc - the transform algorithm\n",
    "               if_fcs=False # bool, whethe the imput file is fcs file. If not, it should be a csv file\n",
    "               # seed = 10, for reproducing\n",
    "              )\n"
   ]
  },
  {
   "cell_type": "code",
   "execution_count": 45,
   "metadata": {},
   "outputs": [
    {
     "data": {
      "text/plain": [
       "<matplotlib.colorbar.Colorbar at 0x1a24f25690>"
      ]
     },
     "execution_count": 45,
     "metadata": {},
     "output_type": "execute_result"
    },
    {
     "data": {
      "image/png": "[encoded data removed]",
      "text/plain": [
       "<Figure size 720x720 with 2 Axes>"
      ]
     },
     "metadata": {
      "needs_background": "light"
     },
     "output_type": "display_data"
    }
   ],
   "source": [
    "import matplotlib.pyplot as plt\n",
    "som_output_weights = tt.map_som\n",
    "som_distance_map = tt.map_som.distance_map()\n",
    "plt.figure(figsize=(10, 10))\n",
    "plt.pcolor(som_distance_map, cmap='bone_r')\n",
    "plt.colorbar()  \n",
    "#don't know if this makes sense or not\n"
   ]
  },
  {
   "cell_type": "markdown",
   "metadata": {},
   "source": [
    "Clustering of the data. So we should cluster them based on the markers that we see"
   ]
  },
  {
   "cell_type": "code",
   "execution_count": 47,
   "metadata": {},
   "outputs": [
    {
     "data": {
      "text/plain": [
       "<bound method NDFrame.describe of           FSC-A    FSC-H        SSC-A       R780-A      B515-A      V450-A  \\\n",
       "0      159360.0  72832.0   930.200012  7428.466309  293.171692  296.450836   \n",
       "1       32128.0  32128.0   253.870056   -38.390263   33.414497   11.098284   \n",
       "2      187456.0  96576.0  1904.827393  2283.830566  617.025269  457.242798   \n",
       "3       39616.0  38976.0  1119.805908   426.463043  411.432739  238.249344   \n",
       "4       71040.0  63488.0   291.357330  5175.881836  114.511658  240.393906   \n",
       "...         ...      ...          ...          ...         ...         ...   \n",
       "99995   62272.0  59456.0   511.171417    31.842297   34.991814   16.344923   \n",
       "99996   70912.0  66240.0   423.427887  5345.878906  199.315857  688.971741   \n",
       "99997   50304.0  49152.0   243.388992  1959.344116   25.821211  341.822235   \n",
       "99998   68992.0  65344.0   447.912842    51.814228  327.664795   61.398369   \n",
       "99999   42176.0  40896.0   624.074585  2770.589844  109.668961   74.880295   \n",
       "\n",
       "            V545-A        G560-A        G610-A        G660-A        G710-A  \\\n",
       "0       563.152344  11923.830078  25165.421875  19173.212891  52035.277344   \n",
       "1       120.726654     74.112572     92.981125    237.716003     96.893257   \n",
       "2       879.182556   1264.698242   5266.725098   6347.848145   8046.870605   \n",
       "3      4318.327148    443.063507    817.831482    706.679749   1432.029785   \n",
       "4       309.248413   3722.678223   1516.909546   4350.542969  30248.910156   \n",
       "...            ...           ...           ...           ...           ...   \n",
       "99995   108.475456     36.121754      2.173528    324.039154    267.597321   \n",
       "99996   753.965759   4296.984863   1702.768555   8827.120117  37386.468750   \n",
       "99997   333.551666    131.073257     33.864628   4492.999512   4191.875000   \n",
       "99998   149.792496     40.213810     34.540615     -3.260488     -4.130219   \n",
       "99999   324.039154   2638.063477   1282.915283   2007.482178  15876.920898   \n",
       "\n",
       "             G780-A   Event #  \n",
       "0      12569.090820       0.0  \n",
       "1          8.482522      10.0  \n",
       "2       1875.684570      20.0  \n",
       "3        367.095459      30.0  \n",
       "4       7712.122070      40.0  \n",
       "...             ...       ...  \n",
       "99995     35.443455  999950.0  \n",
       "99996   9028.202148  999960.0  \n",
       "99997   1012.150085  999970.0  \n",
       "99998    -79.799164  999980.0  \n",
       "99999   3750.367676  999990.0  \n",
       "\n",
       "[100000 rows x 13 columns]>"
      ]
     },
     "execution_count": 47,
     "metadata": {},
     "output_type": "execute_result"
    }
   ],
   "source": [
    "tt_df.describe"
   ]
  },
  {
   "cell_type": "code",
   "execution_count": 93,
   "metadata": {},
   "outputs": [
    {
     "name": "stdout",
     "output_type": "stream",
     "text": [
      "At k = 2, aka. iteration = 0\n",
      "\tAt resampling h = 0, (k = 2)\n",
      "\tAt resampling h = 1, (k = 2)\n",
      "\tAt resampling h = 2, (k = 2)\n",
      "At k = 3, aka. iteration = 1\n",
      "\tAt resampling h = 0, (k = 3)\n",
      "\tAt resampling h = 1, (k = 3)\n",
      "\tAt resampling h = 2, (k = 3)\n",
      "At k = 4, aka. iteration = 2\n",
      "\tAt resampling h = 0, (k = 4)\n",
      "\tAt resampling h = 1, (k = 4)\n",
      "\tAt resampling h = 2, (k = 4)\n",
      "At k = 5, aka. iteration = 3\n",
      "\tAt resampling h = 0, (k = 5)\n",
      "\tAt resampling h = 1, (k = 5)\n",
      "\tAt resampling h = 2, (k = 5)\n",
      "At k = 6, aka. iteration = 4\n",
      "\tAt resampling h = 0, (k = 6)\n",
      "\tAt resampling h = 1, (k = 6)\n",
      "\tAt resampling h = 2, (k = 6)\n",
      "At k = 7, aka. iteration = 5\n",
      "\tAt resampling h = 0, (k = 7)\n",
      "\tAt resampling h = 1, (k = 7)\n",
      "\tAt resampling h = 2, (k = 7)\n",
      "At k = 8, aka. iteration = 6\n",
      "\tAt resampling h = 0, (k = 8)\n",
      "\tAt resampling h = 1, (k = 8)\n",
      "\tAt resampling h = 2, (k = 8)\n",
      "At k = 9, aka. iteration = 7\n",
      "\tAt resampling h = 0, (k = 9)\n",
      "\tAt resampling h = 1, (k = 9)\n",
      "\tAt resampling h = 2, (k = 9)\n",
      "At k = 10, aka. iteration = 8\n",
      "\tAt resampling h = 0, (k = 10)\n",
      "\tAt resampling h = 1, (k = 10)\n",
      "\tAt resampling h = 2, (k = 10)\n",
      "At k = 11, aka. iteration = 9\n",
      "\tAt resampling h = 0, (k = 11)\n",
      "\tAt resampling h = 1, (k = 11)\n",
      "\tAt resampling h = 2, (k = 11)\n",
      "At k = 12, aka. iteration = 10\n",
      "\tAt resampling h = 0, (k = 12)\n",
      "\tAt resampling h = 1, (k = 12)\n",
      "\tAt resampling h = 2, (k = 12)\n"
     ]
    }
   ],
   "source": [
    "from sklearn.cluster import AgglomerativeClustering\n",
    "tt.meta_clustering(AgglomerativeClustering, #  cluster_class: e.g. KMeans, a cluster class, like \"from sklearn.cluster import KMeans\"\n",
    "                   2, # min_n: e.g. 10, the min proposed number of clusters\n",
    "                   13, # max_n: e.g. 31, the max proposed number of clusters\n",
    "                   3, # iter_n: e.g 10, the iteration times for each number of clusters\n",
    "                   resample_proportion=0.6, # resample_proportion: e.g 0.6, the proportion of re-sampling when computing clustering\n",
    "                   verbose=True #verbose: e.g. False, whether print out the clustering process\n",
    "                  )"
   ]
  },
  {
   "cell_type": "code",
   "execution_count": 96,
   "metadata": {},
   "outputs": [
    {
     "data": {
      "text/plain": [
       "2"
      ]
     },
     "execution_count": 96,
     "metadata": {},
     "output_type": "execute_result"
    }
   ],
   "source": [
    "tt.bestk #Optimal number of clusters"
   ]
  },
  {
   "cell_type": "code",
   "execution_count": 97,
   "metadata": {},
   "outputs": [
    {
     "name": "stdout",
     "output_type": "stream",
     "text": [
      "2\n"
     ]
    },
    {
     "data": {
      "image/png": "[encoded data removed]",
      "text/plain": [
       "<Figure size 432x288 with 1 Axes>"
      ]
     },
     "metadata": {},
     "output_type": "display_data"
    }
   ],
   "source": [
    "tt.vis(t=4,\n",
    "       edge_color = 'w',# the number of total nodes = t * bestk, \n",
    "       node_size=300, \n",
    "       with_labels=False)"
   ]
  },
  {
   "cell_type": "code",
   "execution_count": 98,
   "metadata": {},
   "outputs": [
    {
     "name": "stdout",
     "output_type": "stream",
     "text": [
      "0 samples done...\n",
      "10000 samples done...\n",
      "20000 samples done...\n",
      "30000 samples done...\n",
      "40000 samples done...\n",
      "50000 samples done...\n",
      "60000 samples done...\n",
      "70000 samples done...\n",
      "80000 samples done...\n",
      "90000 samples done...\n"
     ]
    }
   ],
   "source": [
    "tt.labeling()"
   ]
  },
  {
   "cell_type": "code",
   "execution_count": 99,
   "metadata": {},
   "outputs": [],
   "source": [
    "output_df = tt.df # new column added: category\n",
    "output_tf_df = tt.tf_df # new column added: category"
   ]
  },
  {
   "cell_type": "code",
   "execution_count": 100,
   "metadata": {},
   "outputs": [
    {
     "data": {
      "text/html": [
       "<div>\n",
       "<style scoped>\n",
       "    .dataframe tbody tr th:only-of-type {\n",
       "        vertical-align: middle;\n",
       "    }\n",
       "\n",
       "    .dataframe tbody tr th {\n",
       "        vertical-align: top;\n",
       "    }\n",
       "\n",
       "    .dataframe thead th {\n",
       "        text-align: right;\n",
       "    }\n",
       "</style>\n",
       "<table border=\"1\" class=\"dataframe\">\n",
       "  <thead>\n",
       "    <tr style=\"text-align: right;\">\n",
       "      <th></th>\n",
       "      <th>FSC-A</th>\n",
       "      <th>FSC-H</th>\n",
       "      <th>SSC-A</th>\n",
       "      <th>R780-A</th>\n",
       "      <th>B515-A</th>\n",
       "      <th>V450-A</th>\n",
       "      <th>V545-A</th>\n",
       "      <th>G560-A</th>\n",
       "      <th>G610-A</th>\n",
       "      <th>G660-A</th>\n",
       "      <th>G710-A</th>\n",
       "      <th>G780-A</th>\n",
       "      <th>Time</th>\n",
       "      <th>Event #</th>\n",
       "      <th>category</th>\n",
       "    </tr>\n",
       "  </thead>\n",
       "  <tbody>\n",
       "    <tr>\n",
       "      <th>0</th>\n",
       "      <td>159360.0</td>\n",
       "      <td>72832.0</td>\n",
       "      <td>930.200012</td>\n",
       "      <td>7428.466309</td>\n",
       "      <td>293.171692</td>\n",
       "      <td>296.450836</td>\n",
       "      <td>563.152344</td>\n",
       "      <td>11923.830078</td>\n",
       "      <td>25165.421875</td>\n",
       "      <td>19173.212891</td>\n",
       "      <td>52035.277344</td>\n",
       "      <td>12569.090820</td>\n",
       "      <td>0.0</td>\n",
       "      <td>0.0</td>\n",
       "      <td>1</td>\n",
       "    </tr>\n",
       "    <tr>\n",
       "      <th>1</th>\n",
       "      <td>32128.0</td>\n",
       "      <td>32128.0</td>\n",
       "      <td>253.870056</td>\n",
       "      <td>-38.390263</td>\n",
       "      <td>33.414497</td>\n",
       "      <td>11.098284</td>\n",
       "      <td>120.726654</td>\n",
       "      <td>74.112572</td>\n",
       "      <td>92.981125</td>\n",
       "      <td>237.716003</td>\n",
       "      <td>96.893257</td>\n",
       "      <td>8.482522</td>\n",
       "      <td>0.0</td>\n",
       "      <td>10.0</td>\n",
       "      <td>0</td>\n",
       "    </tr>\n",
       "    <tr>\n",
       "      <th>2</th>\n",
       "      <td>187456.0</td>\n",
       "      <td>96576.0</td>\n",
       "      <td>1904.827393</td>\n",
       "      <td>2283.830566</td>\n",
       "      <td>617.025269</td>\n",
       "      <td>457.242798</td>\n",
       "      <td>879.182556</td>\n",
       "      <td>1264.698242</td>\n",
       "      <td>5266.725098</td>\n",
       "      <td>6347.848145</td>\n",
       "      <td>8046.870605</td>\n",
       "      <td>1875.684570</td>\n",
       "      <td>0.0</td>\n",
       "      <td>20.0</td>\n",
       "      <td>1</td>\n",
       "    </tr>\n",
       "    <tr>\n",
       "      <th>3</th>\n",
       "      <td>39616.0</td>\n",
       "      <td>38976.0</td>\n",
       "      <td>1119.805908</td>\n",
       "      <td>426.463043</td>\n",
       "      <td>411.432739</td>\n",
       "      <td>238.249344</td>\n",
       "      <td>4318.327148</td>\n",
       "      <td>443.063507</td>\n",
       "      <td>817.831482</td>\n",
       "      <td>706.679749</td>\n",
       "      <td>1432.029785</td>\n",
       "      <td>367.095459</td>\n",
       "      <td>0.0</td>\n",
       "      <td>30.0</td>\n",
       "      <td>0</td>\n",
       "    </tr>\n",
       "    <tr>\n",
       "      <th>4</th>\n",
       "      <td>71040.0</td>\n",
       "      <td>63488.0</td>\n",
       "      <td>291.357330</td>\n",
       "      <td>5175.881836</td>\n",
       "      <td>114.511658</td>\n",
       "      <td>240.393906</td>\n",
       "      <td>309.248413</td>\n",
       "      <td>3722.678223</td>\n",
       "      <td>1516.909546</td>\n",
       "      <td>4350.542969</td>\n",
       "      <td>30248.910156</td>\n",
       "      <td>7712.122070</td>\n",
       "      <td>0.0</td>\n",
       "      <td>40.0</td>\n",
       "      <td>1</td>\n",
       "    </tr>\n",
       "  </tbody>\n",
       "</table>\n",
       "</div>"
      ],
      "text/plain": [
       "      FSC-A    FSC-H        SSC-A       R780-A      B515-A      V450-A  \\\n",
       "0  159360.0  72832.0   930.200012  7428.466309  293.171692  296.450836   \n",
       "1   32128.0  32128.0   253.870056   -38.390263   33.414497   11.098284   \n",
       "2  187456.0  96576.0  1904.827393  2283.830566  617.025269  457.242798   \n",
       "3   39616.0  38976.0  1119.805908   426.463043  411.432739  238.249344   \n",
       "4   71040.0  63488.0   291.357330  5175.881836  114.511658  240.393906   \n",
       "\n",
       "        V545-A        G560-A        G610-A        G660-A        G710-A  \\\n",
       "0   563.152344  11923.830078  25165.421875  19173.212891  52035.277344   \n",
       "1   120.726654     74.112572     92.981125    237.716003     96.893257   \n",
       "2   879.182556   1264.698242   5266.725098   6347.848145   8046.870605   \n",
       "3  4318.327148    443.063507    817.831482    706.679749   1432.029785   \n",
       "4   309.248413   3722.678223   1516.909546   4350.542969  30248.910156   \n",
       "\n",
       "         G780-A  Time  Event #  category  \n",
       "0  12569.090820   0.0      0.0         1  \n",
       "1      8.482522   0.0     10.0         0  \n",
       "2   1875.684570   0.0     20.0         1  \n",
       "3    367.095459   0.0     30.0         0  \n",
       "4   7712.122070   0.0     40.0         1  "
      ]
     },
     "execution_count": 100,
     "metadata": {},
     "output_type": "execute_result"
    }
   ],
   "source": [
    "output_df.head() #this code has added a column \n"
   ]
  },
  {
   "cell_type": "code",
   "execution_count": 114,
   "metadata": {},
   "outputs": [],
   "source": [
    "a = ['Event #', 'FSC-A','FSC-H','SSC-A']\n",
    "new_output = output_df.drop(columns = a)"
   ]
  },
  {
   "cell_type": "code",
   "execution_count": 115,
   "metadata": {},
   "outputs": [
    {
     "data": {
      "text/plain": [
       "array([0, 1])"
      ]
     },
     "execution_count": 115,
     "metadata": {},
     "output_type": "execute_result"
    }
   ],
   "source": [
    "import numpy as np\n",
    "np.unique(new_output.category)"
   ]
  },
  {
   "cell_type": "code",
   "execution_count": 116,
   "metadata": {},
   "outputs": [],
   "source": [
    "mmm = new_output.groupby(['category']).mean()"
   ]
  },
  {
   "cell_type": "code",
   "execution_count": 118,
   "metadata": {},
   "outputs": [
    {
     "name": "stderr",
     "output_type": "stream",
     "text": [
      "No handles with labels found to put in legend.\n"
     ]
    },
    {
     "data": {
      "image/png": "[encoded data removed]",
      "text/plain": [
       "<Figure size 1440x720 with 1 Axes>"
      ]
     },
     "metadata": {
      "needs_background": "light"
     },
     "output_type": "display_data"
    }
   ],
   "source": [
    "plt.figure(figsize=(20,10))\n",
    "x = [i for i in range(10)]\n",
    "my_xticks = mmm.columns\n",
    "plt.xticks(x, my_xticks)\n",
    "for i in range(len(mmm)):\n",
    "    plt.plot(x, mmm.iloc[i])\n",
    "plt.xticks(rotation=60)\n",
    "plt.legend()\n",
    "plt.show()\n"
   ]
  },
  {
   "cell_type": "markdown",
   "metadata": {},
   "source": [
    "SECOND PART"
   ]
  },
  {
   "cell_type": "code",
   "execution_count": null,
   "metadata": {},
   "outputs": [],
   "source": []
  }
 ],
 "metadata": {
  "kernelspec": {
   "display_name": "Python 3",
   "language": "python",
   "name": "python3"
  },
  "language_info": {
   "codemirror_mode": {
    "name": "ipython",
    "version": 3
   },
   "file_extension": ".py",
   "mimetype": "text/x-python",
   "name": "python",
   "nbconvert_exporter": "python",
   "pygments_lexer": "ipython3",
   "version": "3.7.5"
  }
 },
 "nbformat": 4,
 "nbformat_minor": 2
}
